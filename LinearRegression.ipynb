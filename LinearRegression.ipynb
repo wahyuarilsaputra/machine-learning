{
  "nbformat": 4,
  "nbformat_minor": 0,
  "metadata": {
    "colab": {
      "provenance": [],
      "toc_visible": true
    },
    "kernelspec": {
      "name": "python3",
      "display_name": "Python 3"
    },
    "language_info": {
      "name": "python"
    }
  },
  "cells": [
    {
      "cell_type": "markdown",
      "source": [
        "# Materi 2 : Linear Regression\n",
        "Regression adalah permasalahan yang outputnya berupa nilai real value"
      ],
      "metadata": {
        "id": "abPwglt5yTj-"
      }
    },
    {
      "cell_type": "code",
      "execution_count": null,
      "metadata": {
        "id": "YY8J9g4Vx81g"
      },
      "outputs": [],
      "source": [
        "import numpy as np\n",
        "import pandas as pd\n",
        "import matplotlib.pyplot as plt"
      ]
    },
    {
      "cell_type": "markdown",
      "source": [
        "## Membuat Data Fitur dan target"
      ],
      "metadata": {
        "id": "VgXzVB2tqVCl"
      }
    },
    {
      "cell_type": "code",
      "source": [
        "#data fitur (X) dan target (Y)\n",
        "dataX = np.array([1,2,4,3,5])\n",
        "dataY = np.array([1,3,3,2,5])"
      ],
      "metadata": {
        "id": "thtKAPDpyF4t"
      },
      "execution_count": null,
      "outputs": []
    },
    {
      "cell_type": "markdown",
      "source": [
        "##Direct Matriks\n",
        "matriks yang digunakan untuk merepresentasikan hubungan antara input dan output pada model yang dilatih dengan data yang diberikan."
      ],
      "metadata": {
        "id": "5cXMXJHwyh5I"
      }
    },
    {
      "cell_type": "markdown",
      "source": [
        "### Rumus Direct Matriks\n",
        "- Model<br>\n",
        "$y = w_0 + w_1x$<br>\n",
        "- Rumus W1<br>\n",
        "$w1 = cov(x,y)/var(x)$<br>\n",
        "- Rumus w0<br>\n",
        "$w_0 = \\overline{y} - w_1\\overline{x}$<br>\n",
        "- Rumus Covariant<br>\n",
        "$cov(x,y) = $$\\sum_{i=1}^{n} x_i$$(x_1\n",
        "-\\overline{x})(y_1-\\overline{x})/n-1$<br>\n",
        "- Rumus Variant<br>\n",
        "$var(x) = $$\\sum_{i=1}^{n} (x_1-\\overline{x})^2/n-1$\n",
        "\n",
        "Keterangan :\n",
        "- $\\overline{x}$ = Mean Fitur\n",
        "- $\\overline{y}$ = Mean Target\n",
        "- $w_0$ = Intercept/Bias\n",
        "- $w_1$ = Koefisien\n",
        "\n"
      ],
      "metadata": {
        "id": "_N8u7GWYv9Av"
      }
    },
    {
      "cell_type": "markdown",
      "source": [
        "### Langkah\n",
        "- Hitung Mean Fitur dan terget\n",
        "- Hitung Cov dan Var\n",
        "- Masukan hasil ke w0 dan w1\n",
        "- Masukan hasil w0 dan w1 ke model"
      ],
      "metadata": {
        "id": "7IB-GYmZ_V8j"
      }
    },
    {
      "cell_type": "markdown",
      "source": [
        "### Perhitungan Direct Matriks"
      ],
      "metadata": {
        "id": "WttZIT1frFx9"
      }
    },
    {
      "cell_type": "code",
      "source": [
        "#membuat kelas yang dibutuhkan\n",
        "from re import X\n",
        "class simpleLinear:\n",
        "  #deskripsi variabe\n",
        "  def __init__(self,feature,target):\n",
        "    self.feature = feature\n",
        "    self.target = target\n",
        "    self.w0 = None\n",
        "    self.w1 = None\n",
        "  #fungsi rata rata\n",
        "  def meanData(self,x):\n",
        "    return np.mean(x)\n",
        "  #fungsi var(x)\n",
        "  def varData(self,x):\n",
        "    return np.var(x - self.meanData(x),ddof=1)\n",
        "  #fungsi cov\n",
        "  def covData(self,x,y):\n",
        "    return np.cov(x - self.meanData(x)) * (y - self.meanData(y)) / (len(x)-1)\n",
        "  #fungsi fit\n",
        "  def fit(self):\n",
        "    self.w1 = self.covData(self.feature,self.target)/(self.varData(self.feature))\n",
        "    self.w0 = self.meanData(self.target) - (self.w1 * self.meanData(self.feature))\n",
        "  #fungsi prediksi\n",
        "  def prediksi(self,x_input):\n",
        "    return self.w0 + self.w1*x_input\n"
      ],
      "metadata": {
        "id": "93uroNflyH9v"
      },
      "execution_count": null,
      "outputs": []
    },
    {
      "cell_type": "markdown",
      "source": [
        "Menentukan meanData,Variant Data,Covariant data,update bobot,dan prediksi"
      ],
      "metadata": {
        "id": "o3TMz9syrdle"
      }
    },
    {
      "cell_type": "code",
      "source": [
        "dataX = np.array([1,2,4,3,5])\n",
        "dataY = np.array([1,3,3,2,5])\n",
        "model = simpleLinear(dataX,dataY)\n",
        "model.fit()\n",
        "print('w1',model.w1)\n",
        "print('w0',model.w0)"
      ],
      "metadata": {
        "colab": {
          "base_uri": "https://localhost:8080/"
        },
        "id": "7TqgCo1jy3MM",
        "outputId": "d8977f1a-5975-4892-c734-70c31d389123"
      },
      "execution_count": null,
      "outputs": [
        {
          "output_type": "stream",
          "name": "stdout",
          "text": [
            "w1 [-0.45  0.05  0.05 -0.2   0.55]\n",
            "w0 [4.15 2.65 2.65 3.4  1.15]\n"
          ]
        }
      ]
    },
    {
      "cell_type": "markdown",
      "source": [
        "##Stochastic Gradient Descent (Perulangan)\n",
        "algoritma optimasi yang digunakan dalam machine learning untuk menemukan nilai optimal dari parameter model. Algoritma ini bekerja dengan menghitung gradien (turunan parsial) dari fungsi biaya (cost function) pada setiap data pelatihan secara acak (stochastic) dan mengupdate parameter model secara iteratif berdasarkan gradien yang dihitung tersebut."
      ],
      "metadata": {
        "id": "dj8LesvRzB3X"
      }
    },
    {
      "cell_type": "markdown",
      "source": [
        "###  Rumus\n",
        "- Model<br>\n",
        "$y = w_0 + w_1x$<br>\n",
        "- Data Training<br>\n",
        "$w_j = w_j - \\eta(f(x^i)-y^i)x^i_j$<br>\n",
        "\n",
        "Keterangan :\n",
        "- $j$ = fitur ke ...\n",
        "- $y^i$ = target data ke ...\n",
        "- $i$ = data ke...\n",
        "- $f(x^i)$ = prediksi data ke...\n",
        "- $\\eta$ = learning rate"
      ],
      "metadata": {
        "id": "3wt6bAmpwiQ7"
      }
    },
    {
      "cell_type": "code",
      "source": [
        "#perubahan dimensi data (kolom menjadi baris dengan [])\n",
        "dataX = np.array([[1],[2],[4],[3],[5]])\n",
        "dataY = np.array([1,3,3,2,5])\n",
        "jmlhData,jmlhFitur = dataX.shape\n",
        "print(jmlhData,jmlhFitur)"
      ],
      "metadata": {
        "colab": {
          "base_uri": "https://localhost:8080/"
        },
        "id": "vFXCp9Ply4wg",
        "outputId": "b86496a0-fb54-42d7-b557-833a1dfb66eb"
      },
      "execution_count": null,
      "outputs": [
        {
          "output_type": "stream",
          "name": "stdout",
          "text": [
            "5 1\n"
          ]
        }
      ]
    },
    {
      "cell_type": "code",
      "source": [
        "#menambah bias (1) pada kolom pertama (kolom ditambah 1)\n",
        "expandY = np.ones((jmlhData,jmlhFitur+1))\n",
        "#mengisi data dengan data fitur (index 0 = 1,index 1 dan seterusnya diisi dengan data fitur)\n",
        "expandY[:,1:jmlhData+1]=dataX[:]\n",
        "print(expandY)"
      ],
      "metadata": {
        "colab": {
          "base_uri": "https://localhost:8080/"
        },
        "id": "Q9BBi56kzDzs",
        "outputId": "08bb243a-c540-44ec-e9b5-e268ef0ddd3c"
      },
      "execution_count": null,
      "outputs": [
        {
          "output_type": "stream",
          "name": "stdout",
          "text": [
            "[[1. 1.]\n",
            " [1. 2.]\n",
            " [1. 4.]\n",
            " [1. 3.]\n",
            " [1. 5.]]\n"
          ]
        }
      ]
    },
    {
      "cell_type": "code",
      "source": [
        "#2 looping iterasi dalam epoch dan iterasi\n",
        "w = np.zeros((1,jmlhFitur+1))\n",
        "#set learn rate\n",
        "eta = 0.01\n",
        "epoch = 1\n",
        "for ep in range(epoch):\n",
        "  for i in range(jmlhData):\n",
        "    #transpose\n",
        "    prediksi = w.dot(expandY[i].T)\n",
        "    error = prediksi-dataY[i]\n",
        "    delta = eta*error*expandY[i]\n",
        "    #update bobot\n",
        "    w= w-delta\n",
        "    print(error,delta,w)\n"
      ],
      "metadata": {
        "colab": {
          "base_uri": "https://localhost:8080/"
        },
        "id": "dZ07gaKvzE53",
        "outputId": "b26ffcdd-d312-4d77-caf7-fb3aec7096a6"
      },
      "execution_count": null,
      "outputs": [
        {
          "output_type": "stream",
          "name": "stdout",
          "text": [
            "[-1.] [-0.01 -0.01] [[0.01 0.01]]\n",
            "[-2.97] [-0.0297 -0.0594] [[0.0397 0.0694]]\n",
            "[-2.6827] [-0.026827 -0.107308] [[0.066527 0.176708]]\n",
            "[-1.403349] [-0.01403349 -0.04210047] [[0.08056049 0.21880847]]\n",
            "[-3.82539716] [-0.03825397 -0.19126986] [[0.11881446 0.41007833]]\n"
          ]
        }
      ]
    },
    {
      "cell_type": "code",
      "source": [
        "print(w)\n",
        "#prediksi data ke i\n",
        "output = w.dot(expandY[3].T) #data ke 3\n",
        "#model\n",
        "#f(x,w) = 0,11 + 0,41 x"
      ],
      "metadata": {
        "colab": {
          "base_uri": "https://localhost:8080/"
        },
        "id": "q4OxKyZrzF8H",
        "outputId": "35dc600c-3218-4e46-af15-e778f3b64cb5"
      },
      "execution_count": null,
      "outputs": [
        {
          "output_type": "stream",
          "name": "stdout",
          "text": [
            "[[0.11881446 0.41007833]]\n"
          ]
        }
      ]
    },
    {
      "cell_type": "code",
      "source": [
        "import numpy as np\n",
        "\n",
        "# Inisialisasi parameter gradient descent\n",
        "theta = np.array([0, 0])\n",
        "alpha = 0.01\n",
        "\n",
        "# Membuat dataset awal\n",
        "X = np.array([[1, 2], [2, 4], [3, 6], [4, 8], [5, 10]])\n",
        "y = np.array([2, 4, 6, 8, 10])\n",
        "\n",
        "# Melakukan pelatihan model secara online\n",
        "for i in range(len(X)):\n",
        "    # Hitung prediksi\n",
        "    h = np.dot(theta, X[i])\n",
        "    # Hitung error\n",
        "    error = h - y[i]\n",
        "    # Hitung gradient\n",
        "    gradient = alpha * error * X[i]\n",
        "    # Update parameter\n",
        "    theta = theta - gradient\n",
        "\n",
        "# Memprediksi nilai dengan model yang sudah dilatih\n",
        "X_new = np.array([6, 12])\n",
        "y_new = np.dot(theta, X_new)\n",
        "\n",
        "print(\"Hasil prediksi: \", y_new)"
      ],
      "metadata": {
        "colab": {
          "base_uri": "https://localhost:8080/"
        },
        "id": "VUdue2BJzHUb",
        "outputId": "60158b43-2dee-43c4-c74d-66de679056d3"
      },
      "execution_count": null,
      "outputs": [
        {
          "output_type": "stream",
          "name": "stdout",
          "text": [
            "Hasil prediksi:  12.2508\n"
          ]
        }
      ]
    },
    {
      "cell_type": "code",
      "source": [
        "import numpy as np\n",
        "\n",
        "# Inisialisasi parameter gradient descent\n",
        "theta = np.array([0, 0])\n",
        "alpha = 0.01\n",
        "num_iters = 1000\n",
        "\n",
        "# Membuat dataset awal\n",
        "X = np.array([[1, 2], [2, 4], [3, 6], [4, 8], [5, 10]])\n",
        "y = np.array([2, 4, 6, 8, 10])\n",
        "\n",
        "# Melakukan pelatihan model secara offline\n",
        "for i in range(num_iters):\n",
        "    # Hitung prediksi\n",
        "    h = np.dot(X, theta)\n",
        "    # Hitung error\n",
        "    error = h - y\n",
        "    # Hitung gradient\n",
        "    gradient = alpha * (1/len(y)) * np.dot(X.T, error)\n",
        "    # Update parameter\n",
        "    theta = theta - gradient\n",
        "\n",
        "# Memprediksi nilai dengan model yang sudah dilatih\n",
        "X_new = np.array([6, 12])\n",
        "y_new = np.dot(theta, X_new)\n",
        "\n",
        "print(\"Hasil prediksi: \", y_new)"
      ],
      "metadata": {
        "colab": {
          "base_uri": "https://localhost:8080/"
        },
        "id": "hJ349QsFzIkM",
        "outputId": "4a2665d7-cb3c-4a3e-e4ed-0c0613ce5a03"
      },
      "execution_count": null,
      "outputs": [
        {
          "output_type": "stream",
          "name": "stdout",
          "text": [
            "Hasil prediksi:  12.0\n"
          ]
        }
      ]
    },
    {
      "cell_type": "markdown",
      "source": [
        "##Offline Learning\n",
        "teknik machine learning yang melibatkan pelatihan model pada dataset yang sudah dikumpulkan sebelumnya dan diproses secara offline."
      ],
      "metadata": {
        "id": "t1MUWOXNzM7h"
      }
    },
    {
      "cell_type": "markdown",
      "source": [
        "### Perhitungan Offline Learning"
      ],
      "metadata": {
        "id": "HWUt56zPxEby"
      }
    },
    {
      "cell_type": "code",
      "source": [
        "class LinearRegression:\n",
        "  def __init__(self,bias = 0.1,learning_rate=0.01,epoch=1000,w1=0.2,w2=0.3):\n",
        "    self.bias = bias\n",
        "    self.learning_rate = learning_rate\n",
        "    self.epoch = epoch\n",
        "    self.w = np.array([w1,w2])\n",
        "    self.b = bias\n",
        "  def fit(self,x,y):\n",
        "    for i in range(self.epoch):\n",
        "      y_pred = np.dot(x,self.w) + self.b\n",
        "      error = y - y_pred\n",
        "      #dataWeight\n",
        "      dw = (-2 * np.dot(x.T,error))/len(x)\n",
        "      #dataBias\n",
        "      db = (-2 * np.sum(error))/len(x)\n",
        "      self.w -= self.learning_rate * dw\n",
        "      self.b -= self.learning_rate * db\n",
        "  def predict(self,x):\n",
        "    return np.dot(x,self.w) + self.b"
      ],
      "metadata": {
        "id": "WsvbrlrwzJx4"
      },
      "execution_count": null,
      "outputs": []
    },
    {
      "cell_type": "code",
      "source": [
        "x = np.array([[2,4],[2,5],[3,1],[4,5]])\n",
        "y = np.array([10,12,12,16])\n",
        "model = LinearRegression()\n",
        "model.fit(x,y)\n",
        "x_test = np.array([[2,4],[3,1]])\n",
        "y_pred = model.predict(x_test)\n",
        "print(y_pred)"
      ],
      "metadata": {
        "colab": {
          "base_uri": "https://localhost:8080/"
        },
        "id": "6zwmtKJ4zOQB",
        "outputId": "496b6fc8-77a8-4d26-d594-1f2b6808903f"
      },
      "execution_count": null,
      "outputs": [
        {
          "output_type": "stream",
          "name": "stdout",
          "text": [
            "[10.57488605 11.55150446]\n"
          ]
        }
      ]
    }
  ]
}